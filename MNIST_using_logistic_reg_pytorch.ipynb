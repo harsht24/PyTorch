{
 "cells": [
  {
   "cell_type": "markdown",
   "metadata": {},
   "source": [
    "# Image Classification using Logistic Regression in PyTorch"
   ]
  },
  {
   "cell_type": "code",
   "execution_count": 44,
   "metadata": {},
   "outputs": [],
   "source": [
    "import torch\n",
    "import torchvision\n",
    "from torchvision.datasets import MNIST"
   ]
  },
  {
   "cell_type": "code",
   "execution_count": 45,
   "metadata": {},
   "outputs": [],
   "source": [
    "dataset = MNIST(root='data/',download=True)"
   ]
  },
  {
   "cell_type": "code",
   "execution_count": 46,
   "metadata": {},
   "outputs": [
    {
     "data": {
      "text/plain": [
       "60000"
      ]
     },
     "execution_count": 46,
     "metadata": {},
     "output_type": "execute_result"
    }
   ],
   "source": [
    "len(dataset)"
   ]
  },
  {
   "cell_type": "code",
   "execution_count": 47,
   "metadata": {},
   "outputs": [
    {
     "data": {
      "text/plain": [
       "torchvision.datasets.mnist.MNIST"
      ]
     },
     "execution_count": 47,
     "metadata": {},
     "output_type": "execute_result"
    }
   ],
   "source": [
    "type(dataset)"
   ]
  },
  {
   "cell_type": "code",
   "execution_count": 48,
   "metadata": {},
   "outputs": [
    {
     "data": {
      "text/plain": [
       "(<PIL.Image.Image image mode=L size=28x28 at 0x20101F29308>, tensor(5))"
      ]
     },
     "execution_count": 48,
     "metadata": {},
     "output_type": "execute_result"
    }
   ],
   "source": [
    "dataset[0]"
   ]
  },
  {
   "cell_type": "code",
   "execution_count": 49,
   "metadata": {},
   "outputs": [],
   "source": [
    "import matplotlib.pyplot as plt\n",
    "%matplotlib inline"
   ]
  },
  {
   "cell_type": "code",
   "execution_count": 50,
   "metadata": {},
   "outputs": [
    {
     "name": "stdout",
     "output_type": "stream",
     "text": [
      "Label: tensor(3)\n"
     ]
    },
    {
     "data": {
      "image/png": "[encoded data removed]",
      "text/plain": [
       "<Figure size 432x288 with 1 Axes>"
      ]
     },
     "metadata": {
      "needs_background": "light"
     },
     "output_type": "display_data"
    }
   ],
   "source": [
    "image, label = dataset[44]\n",
    "plt.imshow(image, cmap='gray')\n",
    "print(\"Label:\",label)"
   ]
  },
  {
   "cell_type": "code",
   "execution_count": 51,
   "metadata": {},
   "outputs": [
    {
     "name": "stdout",
     "output_type": "stream",
     "text": [
      "Label: tensor(7)\n"
     ]
    },
    {
     "data": {
      "image/png": "[encoded data removed]",
      "text/plain": [
       "<Figure size 432x288 with 1 Axes>"
      ]
     },
     "metadata": {
      "needs_background": "light"
     },
     "output_type": "display_data"
    }
   ],
   "source": [
    "image, label = dataset[168]\n",
    "plt.imshow(image, cmap='gray')\n",
    "print('Label:', label)"
   ]
  },
  {
   "cell_type": "markdown",
   "metadata": {},
   "source": [
    "## Converting images to tensors"
   ]
  },
  {
   "cell_type": "code",
   "execution_count": 52,
   "metadata": {},
   "outputs": [],
   "source": [
    "import torchvision.transforms as transforms"
   ]
  },
  {
   "cell_type": "markdown",
   "metadata": {},
   "source": [
    "PyTorch datasets allow us to specify one or more transformation functions which are applied to the images as they are loaded. torchvision.transforms contains many such predefined functions, and we'll use the ToTensor transform to convert images into PyTorch tensors."
   ]
  },
  {
   "cell_type": "code",
   "execution_count": 53,
   "metadata": {},
   "outputs": [],
   "source": [
    "dataset = MNIST(root='data/',\n",
    "               train=True,\n",
    "               transform=transforms.ToTensor())"
   ]
  },
  {
   "cell_type": "code",
   "execution_count": 57,
   "metadata": {},
   "outputs": [],
   "source": [
    "\n",
    "image_tensor, label = dataset[0]"
   ]
  },
  {
   "cell_type": "markdown",
   "metadata": {},
   "source": [
    "The image is now converted to a 1x28x28 tensor. The first dimension is used to keep track of the color channels. Since images in the MNIST dataset are grayscale, there's just one channel. Other datasets have images with color, in which case there are 3 channels: red, green and blue (RGB)."
   ]
  },
  {
   "cell_type": "code",
   "execution_count": 55,
   "metadata": {},
   "outputs": [
    {
     "name": "stdout",
     "output_type": "stream",
     "text": [
      "tensor([[[0.0039, 0.6039, 0.9922, 0.3529, 0.0000],\n",
      "         [0.0000, 0.5451, 0.9922, 0.7451, 0.0078],\n",
      "         [0.0000, 0.0431, 0.7451, 0.9922, 0.2745],\n",
      "         [0.0000, 0.0000, 0.1373, 0.9451, 0.8824],\n",
      "         [0.0000, 0.0000, 0.0000, 0.3176, 0.9412]]])\n"
     ]
    }
   ],
   "source": [
    "print(image_tensor[:,10:15,10:15])"
   ]
  },
  {
   "cell_type": "code",
   "execution_count": 56,
   "metadata": {},
   "outputs": [
    {
     "data": {
      "image/png": "[encoded data removed]",
      "text/plain": [
       "<Figure size 432x288 with 1 Axes>"
      ]
     },
     "metadata": {
      "needs_background": "light"
     },
     "output_type": "display_data"
    }
   ],
   "source": [
    "plt.imshow(image_tensor[0,10:15,10:15], cmap='gray');"
   ]
  },
  {
   "cell_type": "markdown",
   "metadata": {},
   "source": [
    "## Training and Validation Datasets"
   ]
  },
  {
   "cell_type": "code",
   "execution_count": 58,
   "metadata": {},
   "outputs": [],
   "source": [
    "from torch.utils.data import random_split"
   ]
  },
  {
   "cell_type": "code",
   "execution_count": 60,
   "metadata": {},
   "outputs": [
    {
     "data": {
      "text/plain": [
       "(50000, 10000)"
      ]
     },
     "execution_count": 60,
     "metadata": {},
     "output_type": "execute_result"
    }
   ],
   "source": [
    "train_ds, val_ds = random_split(dataset,[50000,10000])\n",
    "len(train_ds), len(val_ds)"
   ]
  },
  {
   "cell_type": "markdown",
   "metadata": {},
   "source": [
    "We can now created data loaders to help us load the data in batches. We'll use a batch size of 128."
   ]
  },
  {
   "cell_type": "code",
   "execution_count": 61,
   "metadata": {},
   "outputs": [],
   "source": [
    "from torch.utils.data import DataLoader\n",
    "batch_size = 128\n",
    "train_loader = DataLoader(train_ds, batch_size, shuffle=True)\n",
    "val_loader = DataLoader(val_ds, batch_size)"
   ]
  },
  {
   "cell_type": "markdown",
   "metadata": {},
   "source": [
    "We set shuffle=True for the training dataloader, so that the batches generated in each epoch are different, and this randomization helps generalize & speed up the training process. On the other hand, since the validation dataloader is used only for evaluating the model, there is no need to shuffle the images."
   ]
  },
  {
   "cell_type": "markdown",
   "metadata": {},
   "source": [
    "## Model"
   ]
  },
  {
   "cell_type": "markdown",
   "metadata": {},
   "source": [
    "* we will use nn.Linear to create the model instead of defining and initializing the matrices manually.\n",
    "\n",
    "* Since nn.Linear expects the each training example to be a vector, each 1x28x28 image tensor needs to be flattened out into a  vector of size 784 (28*28), before being passed into the model.\n",
    "\n",
    "* The output for each image is vector of size 10, with each element of the vector signifying the probability a particular target label (i.e. 0 to 9). The predicted label for an image is simply the one with the highest probability."
   ]
  },
  {
   "cell_type": "code",
   "execution_count": 62,
   "metadata": {},
   "outputs": [],
   "source": [
    "import torch.nn as nn\n",
    "\n",
    "input_size = 28*28\n",
    "num_classes = 10\n",
    "\n",
    "model = nn.Linear(input_size, num_classes)"
   ]
  },
  {
   "cell_type": "code",
   "execution_count": 64,
   "metadata": {},
   "outputs": [
    {
     "name": "stdout",
     "output_type": "stream",
     "text": [
      "torch.Size([10, 784])\n",
      "Parameter containing:\n",
      "tensor([[-0.0133, -0.0333, -0.0320,  ...,  0.0133,  0.0216, -0.0258],\n",
      "        [ 0.0182,  0.0097,  0.0076,  ..., -0.0038, -0.0202, -0.0058],\n",
      "        [ 0.0116,  0.0321, -0.0207,  ..., -0.0095, -0.0258,  0.0008],\n",
      "        ...,\n",
      "        [-0.0179, -0.0330, -0.0077,  ...,  0.0113, -0.0304,  0.0227],\n",
      "        [ 0.0341, -0.0169, -0.0009,  ..., -0.0288, -0.0050, -0.0043],\n",
      "        [ 0.0069,  0.0265,  0.0219,  ..., -0.0026, -0.0196, -0.0157]],\n",
      "       requires_grad=True)\n"
     ]
    }
   ],
   "source": [
    "print(model.weight.shape)\n",
    "print(model.weight)"
   ]
  },
  {
   "cell_type": "code",
   "execution_count": 65,
   "metadata": {},
   "outputs": [
    {
     "name": "stdout",
     "output_type": "stream",
     "text": [
      "torch.Size([10])\n",
      "Parameter containing:\n",
      "tensor([-0.0148,  0.0043,  0.0177,  0.0207,  0.0318,  0.0056,  0.0269,  0.0100,\n",
      "         0.0269,  0.0089], requires_grad=True)\n"
     ]
    }
   ],
   "source": [
    "print(model.bias.shape)\n",
    "print(model.bias)"
   ]
  },
  {
   "cell_type": "markdown",
   "metadata": {},
   "source": [
    "Although there are a total of 7850 parameters here, conceptually nothing has changed so far. Let's try and generate some outputs using our model. We'll take the first batch of 100 images from our dataset, and pass them into our model."
   ]
  },
  {
   "cell_type": "code",
   "execution_count": 69,
   "metadata": {},
   "outputs": [
    {
     "name": "stdout",
     "output_type": "stream",
     "text": [
      "tensor([6, 1, 7, 0, 7, 1, 9, 4, 7, 6, 3, 9, 7, 4, 8, 3, 7, 0, 4, 7, 3, 2, 6, 8,\n",
      "        9, 1, 4, 4, 2, 7, 7, 9, 8, 5, 1, 2, 7, 6, 5, 0, 9, 2, 9, 0, 0, 2, 4, 3,\n",
      "        8, 8, 0, 7, 1, 5, 9, 9, 8, 3, 7, 2, 3, 4, 0, 5, 7, 6, 8, 9, 6, 0, 3, 6,\n",
      "        5, 3, 7, 8, 1, 2, 7, 8, 0, 1, 6, 0, 4, 6, 2, 1, 9, 0, 9, 8, 9, 2, 9, 8,\n",
      "        4, 7, 3, 0, 4, 3, 8, 7, 1, 9, 2, 7, 0, 6, 1, 5, 9, 5, 6, 9, 1, 0, 0, 6,\n",
      "        9, 0, 3, 8, 6, 3, 7, 8])\n",
      "torch.Size([128, 1, 28, 28])\n",
      "torch.Size([128, 784])\n",
      "tensor([[ 0.1275, -0.2032,  0.1874,  ...,  0.1625,  0.3043, -0.0748],\n",
      "        [-0.0255, -0.2329,  0.1969,  ..., -0.2328,  0.2672,  0.1102],\n",
      "        [ 0.1434, -0.2469,  0.1680,  ...,  0.0257,  0.1264,  0.2521],\n",
      "        ...,\n",
      "        [-0.2650, -0.2135,  0.3101,  ..., -0.1722,  0.1493, -0.1087],\n",
      "        [-0.0082,  0.0394,  0.1900,  ..., -0.0931,  0.1610,  0.2716],\n",
      "        [-0.0089, -0.1228,  0.0008,  ..., -0.2496,  0.0054,  0.0106]],\n",
      "       grad_fn=<AddmmBackward>)\n"
     ]
    }
   ],
   "source": [
    "for images, labels in train_loader:\n",
    "    print(labels)\n",
    "    \n",
    "    print(images.shape)\n",
    "    images = images.view(-1,28*28)  # Images should be flattened or order (28x28) before feeding to model..from ([128, 1, 28, 28]) to ([128, 784])\n",
    "    print(images.shape)\n",
    "    \n",
    "    outputs=model(images)\n",
    "    print(outputs)\n",
    "    \n",
    "    break"
   ]
  },
  {
   "cell_type": "code",
   "execution_count": 72,
   "metadata": {},
   "outputs": [],
   "source": [
    "class MnistModel(nn.Module):\n",
    "    def __init__(self):\n",
    "        super().__init__()\n",
    "        self.linear = nn.Linear(input_size, num_classes)\n",
    "        \n",
    "    def forward(self, xb):\n",
    "        xb = xb.view(-1, 784)\n",
    "        out = self.linear(xb)\n",
    "        return out\n",
    "    \n",
    "model = MnistModel()"
   ]
  },
  {
   "cell_type": "code",
   "execution_count": 74,
   "metadata": {},
   "outputs": [
    {
     "name": "stdout",
     "output_type": "stream",
     "text": [
      "torch.Size([10, 784]) torch.Size([10])\n"
     ]
    },
    {
     "data": {
      "text/plain": [
       "[Parameter containing:\n",
       " tensor([[-0.0106,  0.0174, -0.0110,  ..., -0.0333,  0.0302, -0.0020],\n",
       "         [-0.0234,  0.0118, -0.0008,  ..., -0.0141,  0.0117, -0.0063],\n",
       "         [ 0.0071, -0.0309, -0.0152,  ..., -0.0279, -0.0303,  0.0001],\n",
       "         ...,\n",
       "         [-0.0289, -0.0108,  0.0016,  ...,  0.0080, -0.0136, -0.0153],\n",
       "         [ 0.0011,  0.0073, -0.0253,  ..., -0.0116, -0.0047, -0.0303],\n",
       "         [ 0.0352, -0.0107,  0.0285,  ..., -0.0158, -0.0037, -0.0101]],\n",
       "        requires_grad=True),\n",
       " Parameter containing:\n",
       " tensor([-0.0045, -0.0142, -0.0072, -0.0225, -0.0188, -0.0255, -0.0076,  0.0235,\n",
       "          0.0337, -0.0198], requires_grad=True)]"
      ]
     },
     "execution_count": 74,
     "metadata": {},
     "output_type": "execute_result"
    }
   ],
   "source": [
    "print(model.linear.weight.shape, model.linear.bias.shape)\n",
    "list(model.parameters())"
   ]
  },
  {
   "cell_type": "code",
   "execution_count": 75,
   "metadata": {},
   "outputs": [
    {
     "name": "stdout",
     "output_type": "stream",
     "text": [
      "outputs.shape :  torch.Size([128, 10])\n",
      "Sample outputs :\n",
      " tensor([[ 0.1555,  0.0236, -0.1233, -0.3108,  0.2147, -0.1315,  0.1643, -0.4852,\n",
      "         -0.1869, -0.1027],\n",
      "        [ 0.1669,  0.1121, -0.2051, -0.2069,  0.0094, -0.0496, -0.1440,  0.1072,\n",
      "         -0.2894, -0.1055]])\n"
     ]
    }
   ],
   "source": [
    "for images, labels in train_loader:\n",
    "    outputs = model(images)\n",
    "    break\n",
    "print('outputs.shape : ', outputs.shape)\n",
    "print('Sample outputs :\\n', outputs[:2].data)"
   ]
  },
  {
   "cell_type": "markdown",
   "metadata": {},
   "source": [
    "For each of the 100 input images, we get 10 outputs, one for each class. The elements of each output row must lie between 0 to 1 and add up to 1,"
   ]
  },
  {
   "cell_type": "markdown",
   "metadata": {},
   "source": [
    "The softmax function is included in the torch.nn.functional package, and requires us to specify a dimension along which the softmax must be applied."
   ]
  },
  {
   "cell_type": "code",
   "execution_count": 76,
   "metadata": {},
   "outputs": [],
   "source": [
    "import torch.nn.functional as F"
   ]
  },
  {
   "cell_type": "code",
   "execution_count": 78,
   "metadata": {},
   "outputs": [
    {
     "name": "stdout",
     "output_type": "stream",
     "text": [
      "Sample probabilities:\n",
      " tensor([[0.1236, 0.1083, 0.0935, 0.0775, 0.1311, 0.0928, 0.1247, 0.0651, 0.0878,\n",
      "         0.0955],\n",
      "        [0.1242, 0.1175, 0.0856, 0.0854, 0.1061, 0.1000, 0.0910, 0.1170, 0.0787,\n",
      "         0.0946]])\n",
      "Sum:  1.0\n"
     ]
    }
   ],
   "source": [
    "probs = F.softmax(outputs, dim=1)\n",
    "\n",
    "# Look at sample probabilities\n",
    "print(\"Sample probabilities:\\n\", probs[:2].data)\n",
    "\n",
    "# Add up the probabilities of an output row\n",
    "print(\"Sum: \", torch.sum(probs[0]).item())"
   ]
  },
  {
   "cell_type": "markdown",
   "metadata": {},
   "source": [
    "Finally, we can determine the predicted label for each image by simply choosing the index of the element with the highest probability in each output row. This is done using torch.max, which returns the largest element and the index of the largest element along a particular dimension of a tensor."
   ]
  },
  {
   "cell_type": "code",
   "execution_count": 79,
   "metadata": {},
   "outputs": [
    {
     "name": "stdout",
     "output_type": "stream",
     "text": [
      "tensor([4, 0, 0, 1, 6, 0, 7, 1, 0, 7, 6, 6, 4, 1, 0, 0, 0, 0, 7, 6, 0, 6, 6, 0,\n",
      "        0, 0, 6, 6, 1, 6, 6, 0, 0, 0, 1, 0, 6, 6, 1, 1, 6, 6, 0, 0, 6, 0, 1, 6,\n",
      "        0, 6, 2, 6, 1, 0, 0, 7, 1, 0, 0, 1, 0, 1, 8, 0, 0, 0, 1, 0, 6, 0, 6, 6,\n",
      "        1, 1, 0, 6, 1, 0, 6, 6, 0, 6, 0, 1, 0, 5, 0, 7, 6, 6, 0, 6, 6, 1, 0, 6,\n",
      "        0, 1, 0, 4, 1, 0, 1, 0, 6, 4, 0, 1, 0, 1, 1, 0, 1, 1, 1, 1, 6, 1, 1, 6,\n",
      "        6, 6, 0, 6, 6, 6, 0, 1])\n",
      "tensor([0.1311, 0.1242, 0.1270, 0.1365, 0.1377, 0.1379, 0.1360, 0.1354, 0.1222,\n",
      "        0.1392, 0.1896, 0.1488, 0.1266, 0.1277, 0.1387, 0.1251, 0.1340, 0.1605,\n",
      "        0.1306, 0.1251, 0.1186, 0.1472, 0.1229, 0.1161, 0.1226, 0.1147, 0.1150,\n",
      "        0.1317, 0.1210, 0.1493, 0.1674, 0.1402, 0.1261, 0.1210, 0.1469, 0.1538,\n",
      "        0.1269, 0.1937, 0.1270, 0.1307, 0.1137, 0.1329, 0.1194, 0.1217, 0.1509,\n",
      "        0.1389, 0.1625, 0.1448, 0.1502, 0.1576, 0.1156, 0.1276, 0.1588, 0.1287,\n",
      "        0.1256, 0.1342, 0.1212, 0.1382, 0.1197, 0.1292, 0.1303, 0.1572, 0.1189,\n",
      "        0.1216, 0.1390, 0.1549, 0.1327, 0.1159, 0.1457, 0.1377, 0.1555, 0.1198,\n",
      "        0.1299, 0.1322, 0.1319, 0.1564, 0.1419, 0.1517, 0.1389, 0.1318, 0.1287,\n",
      "        0.1436, 0.1243, 0.1451, 0.1212, 0.1306, 0.1504, 0.1486, 0.1417, 0.1639,\n",
      "        0.1442, 0.1465, 0.1427, 0.1296, 0.1252, 0.1716, 0.1423, 0.1553, 0.1268,\n",
      "        0.1215, 0.1289, 0.1358, 0.1433, 0.1368, 0.1361, 0.1340, 0.1406, 0.1321,\n",
      "        0.1204, 0.1371, 0.1171, 0.1285, 0.1447, 0.1243, 0.1354, 0.1265, 0.1156,\n",
      "        0.1283, 0.1172, 0.1312, 0.1481, 0.1363, 0.1298, 0.1284, 0.1414, 0.1429,\n",
      "        0.1266, 0.1203], grad_fn=<MaxBackward0>)\n"
     ]
    }
   ],
   "source": [
    "max_probs, preds = torch.max(probs, dim=1)\n",
    "print(preds)\n",
    "print(max_probs)"
   ]
  },
  {
   "cell_type": "code",
   "execution_count": 81,
   "metadata": {},
   "outputs": [
    {
     "data": {
      "text/plain": [
       "tensor([6, 0, 5, 6, 6, 8, 3, 4, 5, 3, 4, 4, 9, 4, 1, 0, 5, 2, 5, 3, 1, 2, 8, 9,\n",
       "        8, 1, 3, 3, 4, 5, 4, 5, 7, 3, 9, 8, 3, 4, 7, 6, 3, 7, 9, 3, 6, 6, 4, 2,\n",
       "        2, 9, 5, 6, 2, 0, 0, 2, 3, 4, 5, 6, 2, 4, 1, 6, 5, 6, 9, 1, 5, 0, 4, 5,\n",
       "        4, 4, 7, 4, 7, 2, 3, 8, 3, 3, 9, 9, 5, 3, 0, 0, 3, 9, 3, 8, 2, 7, 4, 4,\n",
       "        2, 2, 7, 5, 7, 3, 2, 1, 4, 7, 7, 5, 5, 7, 1, 8, 4, 7, 7, 5, 8, 4, 7, 2,\n",
       "        6, 8, 2, 1, 6, 4, 7, 6])"
      ]
     },
     "execution_count": 81,
     "metadata": {},
     "output_type": "execute_result"
    }
   ],
   "source": [
    "labels"
   ]
  },
  {
   "cell_type": "markdown",
   "metadata": {},
   "source": [
    "## Evaluation Metric and Loss Function"
   ]
  },
  {
   "cell_type": "code",
   "execution_count": 82,
   "metadata": {},
   "outputs": [],
   "source": [
    "def accuracy(outputs, labels):\n",
    "    _, preds = torch.max(outputs, dim=1)\n",
    "    return torch.tensor(torch.sum(preds == labels).item() / len(preds))"
   ]
  },
  {
   "cell_type": "code",
   "execution_count": 87,
   "metadata": {},
   "outputs": [
    {
     "data": {
      "text/plain": [
       "tensor(0.0938)"
      ]
     },
     "execution_count": 87,
     "metadata": {},
     "output_type": "execute_result"
    }
   ],
   "source": [
    "accuracy(outputs, labels)"
   ]
  },
  {
   "cell_type": "markdown",
   "metadata": {},
   "source": [
    "* While the accuracy is a great way for us (humans) to evaluate the model, it can't be used as a loss function for optimizing our model using gradient descent, for the following reasons:\n",
    "\n",
    "* It's not a differentiable function. torch.max and == are both non-continuous and non-differentiable operations, so we can't use the accuracy for computing gradients w.r.t the weights and biases.\n",
    "\n",
    "* It doesn't take into account the actual probabilities predicted by the model, so it can't provide sufficient feedback for incremental improvements.\n",
    "\n",
    "* Due to these reasons, accuracy is a great evaluation metric for classification, but not a good loss function. A commonly used loss function for classification problems is the cross entropy."
   ]
  },
  {
   "cell_type": "code",
   "execution_count": null,
   "metadata": {},
   "outputs": [],
   "source": []
  },
  {
   "cell_type": "code",
   "execution_count": 86,
   "metadata": {},
   "outputs": [],
   "source": [
    "loss_fn = F.cross_entropy"
   ]
  },
  {
   "cell_type": "code",
   "execution_count": 88,
   "metadata": {},
   "outputs": [
    {
     "name": "stdout",
     "output_type": "stream",
     "text": [
      "tensor(2.3456, grad_fn=<NllLossBackward>)\n"
     ]
    }
   ],
   "source": [
    "loss = loss_fn(outputs, labels)\n",
    "print(loss)"
   ]
  },
  {
   "cell_type": "markdown",
   "metadata": {},
   "source": [
    "Since the cross entropy is the negative logarithm of the predicted probability of the correct label averaged over all training samples, one way to interpret the resulting number e.g. 2.23 is look at e^-2.23 which is around 0.1 as the predicted probability of the correct label, on average. Lower the loss, better the model."
   ]
  },
  {
   "cell_type": "markdown",
   "metadata": {},
   "source": [
    "## Training the model"
   ]
  },
  {
   "cell_type": "markdown",
   "metadata": {},
   "source": [
    "for epoch in range(num_epochs):\n",
    "    # Training phase\n",
    "    for batch in train_loader:\n",
    "        # Generate predictions\n",
    "        # Calculate loss\n",
    "        # Compute gradients\n",
    "        # Update weights\n",
    "        # Reset gradients\n",
    "    \n",
    "    # Validation phase\n",
    "    for batch in val_loader:\n",
    "        # Generate predictions\n",
    "        # Calculate loss\n",
    "        # Calculate metrics (accuracy etc.)\n",
    "    # Calculate average validation loss & metrics\n",
    "    \n",
    "    # Log epoch, loss & metrics for inspection"
   ]
  },
  {
   "cell_type": "code",
   "execution_count": 90,
   "metadata": {},
   "outputs": [],
   "source": [
    "class MnistModel(nn.Module):\n",
    "    def __init__(self):\n",
    "        super().__init__()\n",
    "        self.linear = nn.Linear(input_size, num_classes)\n",
    "        \n",
    "    def forward(self, xb):\n",
    "        xb = xb.reshape(-1, 784)\n",
    "        out = self.linear(xb)\n",
    "        return out\n",
    "    \n",
    "    def training_step(self, batch):\n",
    "        images, labels = batch \n",
    "        out = self(images)                  # Generate predictions\n",
    "        loss = F.cross_entropy(out, labels) # Calculate loss\n",
    "        return loss\n",
    "    \n",
    "    def validation_step(self, batch):\n",
    "        images, labels = batch \n",
    "        out = self(images)                    # Generate predictions\n",
    "        loss = F.cross_entropy(out, labels)   # Calculate loss\n",
    "        acc = accuracy(out, labels)           # Calculate accuracy\n",
    "        return {'val_loss': loss, 'val_acc': acc}\n",
    "        \n",
    "    def validation_epoch_end(self, outputs):\n",
    "        batch_losses = [x['val_loss'] for x in outputs]\n",
    "        epoch_loss = torch.stack(batch_losses).mean()   # Combine losses\n",
    "        batch_accs = [x['val_acc'] for x in outputs]\n",
    "        epoch_acc = torch.stack(batch_accs).mean()      # Combine accuracies\n",
    "        return {'val_loss': epoch_loss.item(), 'val_acc': epoch_acc.item()}\n",
    "    \n",
    "    def epoch_end(self, epoch, result):\n",
    "        print(\"Epoch [{}], val_loss: {:.4f}, val_acc: {:.4f}\".format(epoch, result['val_loss'], result['val_acc']))\n",
    "    \n",
    "model = MnistModel()"
   ]
  },
  {
   "cell_type": "code",
   "execution_count": 91,
   "metadata": {},
   "outputs": [],
   "source": [
    "def evaluate(model, val_loader):\n",
    "    outputs = [model.validation_step(batch) for batch in val_loader]\n",
    "    return model.validation_epoch_end(outputs)\n",
    "\n",
    "def fit(epochs, lr, model, train_loader, val_loader, opt_func=torch.optim.SGD):\n",
    "    history = []\n",
    "    optimizer = opt_func(model.parameters(), lr)\n",
    "    for epoch in range(epochs):\n",
    "        # Training Phase \n",
    "        for batch in train_loader:\n",
    "            loss = model.training_step(batch)\n",
    "            loss.backward()\n",
    "            optimizer.step()\n",
    "            optimizer.zero_grad()\n",
    "        # Validation phase\n",
    "        result = evaluate(model, val_loader)\n",
    "        model.epoch_end(epoch, result)\n",
    "        history.append(result)\n",
    "    return history"
   ]
  },
  {
   "cell_type": "markdown",
   "metadata": {},
   "source": [
    "The fit function records the validation loss and metric from each epoch and returns a history of the training process. This is useful for debuggin & visualizing the training process. Before we train the model, let's see how the model performs on the validation set with the initial set of randomly initialized weights & biases.\n",
    "\n",
    "Configurations like batch size, learning rate etc. need to picked in advance while training machine learning models, and are called hyperparameters. Picking the right hyperparameters is critical for training an accurate model within a reasonable amount of time, and is an active area of research and experimentation. Feel free to try different learning rates and see how it affects the training process."
   ]
  },
  {
   "cell_type": "code",
   "execution_count": 92,
   "metadata": {},
   "outputs": [
    {
     "data": {
      "text/plain": [
       "{'val_loss': 2.324141025543213, 'val_acc': 0.09028876572847366}"
      ]
     },
     "execution_count": 92,
     "metadata": {},
     "output_type": "execute_result"
    }
   ],
   "source": [
    "result0 = evaluate(model, val_loader)\n",
    "result0"
   ]
  },
  {
   "cell_type": "markdown",
   "metadata": {},
   "source": [
    "The initial accuracy is around 9%, which is what one might expect from a randomly intialized model (since it has a 1 in 10 chance of getting a label right by guessing randomly). Also note that we are using the .format method with the message string to print only the first four digits after the decimal point."
   ]
  },
  {
   "cell_type": "code",
   "execution_count": 93,
   "metadata": {},
   "outputs": [
    {
     "name": "stdout",
     "output_type": "stream",
     "text": [
      "Epoch [0], val_loss: 1.9556, val_acc: 0.6223\n",
      "Epoch [1], val_loss: 1.6869, val_acc: 0.7232\n",
      "Epoch [2], val_loss: 1.4860, val_acc: 0.7553\n",
      "Epoch [3], val_loss: 1.3344, val_acc: 0.7732\n",
      "Epoch [4], val_loss: 1.2180, val_acc: 0.7859\n"
     ]
    }
   ],
   "source": [
    "history1 = fit(5, 0.001, model, train_loader, val_loader)"
   ]
  },
  {
   "cell_type": "code",
   "execution_count": 94,
   "metadata": {},
   "outputs": [
    {
     "name": "stdout",
     "output_type": "stream",
     "text": [
      "Epoch [0], val_loss: 1.1266, val_acc: 0.7977\n",
      "Epoch [1], val_loss: 1.0535, val_acc: 0.8040\n",
      "Epoch [2], val_loss: 0.9935, val_acc: 0.8113\n",
      "Epoch [3], val_loss: 0.9436, val_acc: 0.8173\n",
      "Epoch [4], val_loss: 0.9014, val_acc: 0.8218\n"
     ]
    }
   ],
   "source": [
    "history2 = fit(5, 0.001, model, train_loader, val_loader)"
   ]
  },
  {
   "cell_type": "code",
   "execution_count": 95,
   "metadata": {},
   "outputs": [
    {
     "name": "stdout",
     "output_type": "stream",
     "text": [
      "Epoch [0], val_loss: 0.6805, val_acc: 0.8495\n",
      "Epoch [1], val_loss: 0.5899, val_acc: 0.8606\n",
      "Epoch [2], val_loss: 0.5385, val_acc: 0.8690\n",
      "Epoch [3], val_loss: 0.5051, val_acc: 0.8737\n",
      "Epoch [4], val_loss: 0.4809, val_acc: 0.8768\n"
     ]
    }
   ],
   "source": [
    "history3 = fit(5, 0.01, model, train_loader, val_loader)"
   ]
  },
  {
   "cell_type": "code",
   "execution_count": 96,
   "metadata": {},
   "outputs": [
    {
     "name": "stdout",
     "output_type": "stream",
     "text": [
      "Epoch [0], val_loss: 0.4788, val_acc: 0.8772\n",
      "Epoch [1], val_loss: 0.4767, val_acc: 0.8779\n",
      "Epoch [2], val_loss: 0.4748, val_acc: 0.8781\n",
      "Epoch [3], val_loss: 0.4729, val_acc: 0.8785\n",
      "Epoch [4], val_loss: 0.4710, val_acc: 0.8788\n"
     ]
    }
   ],
   "source": [
    "history4 = fit(5, 0.001, model, train_loader, val_loader)"
   ]
  },
  {
   "cell_type": "code",
   "execution_count": 98,
   "metadata": {},
   "outputs": [
    {
     "name": "stdout",
     "output_type": "stream",
     "text": [
      "Epoch [0], val_loss: 0.4608, val_acc: 0.8810\n",
      "Epoch [1], val_loss: 0.4592, val_acc: 0.8810\n",
      "Epoch [2], val_loss: 0.4577, val_acc: 0.8814\n",
      "Epoch [3], val_loss: 0.4562, val_acc: 0.8813\n",
      "Epoch [4], val_loss: 0.4547, val_acc: 0.8812\n",
      "Epoch [5], val_loss: 0.4533, val_acc: 0.8816\n",
      "Epoch [6], val_loss: 0.4519, val_acc: 0.8817\n",
      "Epoch [7], val_loss: 0.4505, val_acc: 0.8818\n",
      "Epoch [8], val_loss: 0.4491, val_acc: 0.8820\n",
      "Epoch [9], val_loss: 0.4478, val_acc: 0.8820\n"
     ]
    }
   ],
   "source": [
    "history5 = fit(10, 0.001, model, train_loader, val_loader)"
   ]
  },
  {
   "cell_type": "code",
   "execution_count": 106,
   "metadata": {},
   "outputs": [
    {
     "data": {
      "image/png": "[encoded data removed]",
      "text/plain": [
       "<Figure size 432x288 with 1 Axes>"
      ]
     },
     "metadata": {
      "needs_background": "light"
     },
     "output_type": "display_data"
    }
   ],
   "source": [
    "history = [result0] + history1 + history2 + history3 + history4 + history5\n",
    "accuracies = [result['val_acc'] for result in history]\n",
    "plt.plot(accuracies, '-x')\n",
    "plt.xlabel('epoch')\n",
    "plt.ylabel('accuracy')\n",
    "plt.title('Accuracy vs. No. of epochs');"
   ]
  },
  {
   "cell_type": "code",
   "execution_count": null,
   "metadata": {},
   "outputs": [],
   "source": []
  },
  {
   "cell_type": "markdown",
   "metadata": {},
   "source": [
    "It's quite clear from the above picture that the model probably won't cross the accuracy threshold of 90% even after training for a very long time. One possible reason for this is that the learning rate might be too high. It's possible that the model's paramaters are \"bouncing\" around the optimal set of parameters that have the lowest loss. You can try reducing the learning rate and training for a few more epochs to see if it helps."
   ]
  },
  {
   "cell_type": "markdown",
   "metadata": {},
   "source": [
    "## Testing with individual images"
   ]
  },
  {
   "cell_type": "code",
   "execution_count": 107,
   "metadata": {},
   "outputs": [],
   "source": [
    "test_dataset = MNIST(root='data/', \n",
    "                     train=False,\n",
    "                     transform=transforms.ToTensor())"
   ]
  },
  {
   "cell_type": "code",
   "execution_count": 108,
   "metadata": {},
   "outputs": [
    {
     "name": "stdout",
     "output_type": "stream",
     "text": [
      "Shape: torch.Size([1, 28, 28])\n",
      "Label: tensor(7)\n"
     ]
    },
    {
     "data": {
      "image/png": "[encoded data removed]",
      "text/plain": [
       "<Figure size 432x288 with 1 Axes>"
      ]
     },
     "metadata": {
      "needs_background": "light"
     },
     "output_type": "display_data"
    }
   ],
   "source": [
    "img, label = test_dataset[0]\n",
    "plt.imshow(img[0], cmap='gray')\n",
    "print('Shape:', img.shape)\n",
    "print('Label:', label)"
   ]
  },
  {
   "cell_type": "code",
   "execution_count": 111,
   "metadata": {},
   "outputs": [],
   "source": [
    "def predict_image(img, model):\n",
    "    xb = img.unsqueeze(0)\n",
    "    yb = model(xb)\n",
    "    _, pred = torch.max(yb, dim=1)\n",
    "    return pred[0].item()"
   ]
  },
  {
   "cell_type": "code",
   "execution_count": 112,
   "metadata": {},
   "outputs": [
    {
     "name": "stdout",
     "output_type": "stream",
     "text": [
      "Label: tensor(7) , Predicted: 7\n"
     ]
    },
    {
     "data": {
      "image/png": "[encoded data removed]",
      "text/plain": [
       "<Figure size 432x288 with 1 Axes>"
      ]
     },
     "metadata": {
      "needs_background": "light"
     },
     "output_type": "display_data"
    }
   ],
   "source": [
    "img, label = test_dataset[0]\n",
    "plt.imshow(img[0], cmap='gray')\n",
    "print('Label:', label, ', Predicted:', predict_image(img, model))"
   ]
  },
  {
   "cell_type": "code",
   "execution_count": 115,
   "metadata": {},
   "outputs": [
    {
     "name": "stdout",
     "output_type": "stream",
     "text": [
      "Label: tensor(6) , Predicted: 6\n"
     ]
    },
    {
     "data": {
      "image/png": "[encoded data removed]",
      "text/plain": [
       "<Figure size 432x288 with 1 Axes>"
      ]
     },
     "metadata": {
      "needs_background": "light"
     },
     "output_type": "display_data"
    }
   ],
   "source": [
    "img, label = test_dataset[11]\n",
    "plt.imshow(img[0], cmap='gray')\n",
    "print('Label:', label, ', Predicted:', predict_image(img, model))"
   ]
  },
  {
   "cell_type": "markdown",
   "metadata": {},
   "source": [
    "## Saving and loading the model"
   ]
  },
  {
   "cell_type": "code",
   "execution_count": 116,
   "metadata": {},
   "outputs": [],
   "source": [
    "torch.save(model.state_dict(), 'mnist-logistic.pth')"
   ]
  },
  {
   "cell_type": "markdown",
   "metadata": {},
   "source": [
    "The .state_dict method returns an OrderedDict containing all the weights and bias matrices mapped to the right attributes of the model."
   ]
  },
  {
   "cell_type": "code",
   "execution_count": 118,
   "metadata": {},
   "outputs": [
    {
     "data": {
      "text/plain": [
       "OrderedDict([('linear.weight',\n",
       "              tensor([[ 0.0112, -0.0329, -0.0057,  ...,  0.0145,  0.0195,  0.0198],\n",
       "                      [-0.0170, -0.0061, -0.0244,  ...,  0.0124, -0.0302, -0.0022],\n",
       "                      [-0.0154,  0.0302, -0.0346,  ...,  0.0218,  0.0228,  0.0045],\n",
       "                      ...,\n",
       "                      [ 0.0268, -0.0179,  0.0162,  ..., -0.0149,  0.0308, -0.0007],\n",
       "                      [-0.0294, -0.0132, -0.0204,  ..., -0.0247, -0.0201,  0.0093],\n",
       "                      [-0.0225, -0.0299,  0.0288,  ..., -0.0093,  0.0012, -0.0187]])),\n",
       "             ('linear.bias',\n",
       "              tensor([-0.0566,  0.1656, -0.0148, -0.0517,  0.0394,  0.1468, -0.0241,  0.1285,\n",
       "                      -0.2420, -0.0318]))])"
      ]
     },
     "execution_count": 118,
     "metadata": {},
     "output_type": "execute_result"
    }
   ],
   "source": [
    "model.state_dict()"
   ]
  },
  {
   "cell_type": "markdown",
   "metadata": {},
   "source": [
    "To load the model weights, we can instante a new object of the class MnistModel, and use the .load_state_dict method."
   ]
  },
  {
   "cell_type": "code",
   "execution_count": 119,
   "metadata": {},
   "outputs": [
    {
     "data": {
      "text/plain": [
       "OrderedDict([('linear.weight',\n",
       "              tensor([[ 0.0112, -0.0329, -0.0057,  ...,  0.0145,  0.0195,  0.0198],\n",
       "                      [-0.0170, -0.0061, -0.0244,  ...,  0.0124, -0.0302, -0.0022],\n",
       "                      [-0.0154,  0.0302, -0.0346,  ...,  0.0218,  0.0228,  0.0045],\n",
       "                      ...,\n",
       "                      [ 0.0268, -0.0179,  0.0162,  ..., -0.0149,  0.0308, -0.0007],\n",
       "                      [-0.0294, -0.0132, -0.0204,  ..., -0.0247, -0.0201,  0.0093],\n",
       "                      [-0.0225, -0.0299,  0.0288,  ..., -0.0093,  0.0012, -0.0187]])),\n",
       "             ('linear.bias',\n",
       "              tensor([-0.0566,  0.1656, -0.0148, -0.0517,  0.0394,  0.1468, -0.0241,  0.1285,\n",
       "                      -0.2420, -0.0318]))])"
      ]
     },
     "execution_count": 119,
     "metadata": {},
     "output_type": "execute_result"
    }
   ],
   "source": [
    "model2 = MnistModel()\n",
    "model2.load_state_dict(torch.load('mnist-logistic.pth'))\n",
    "model.state_dict()"
   ]
  },
  {
   "cell_type": "code",
   "execution_count": 120,
   "metadata": {},
   "outputs": [
    {
     "data": {
      "text/plain": [
       "{'val_loss': 0.41295480728149414, 'val_acc': 0.891406238079071}"
      ]
     },
     "execution_count": 120,
     "metadata": {},
     "output_type": "execute_result"
    }
   ],
   "source": [
    "test_loader = DataLoader(test_dataset, batch_size=256)\n",
    "result = evaluate(model2, test_loader)\n",
    "result"
   ]
  },
  {
   "cell_type": "code",
   "execution_count": null,
   "metadata": {},
   "outputs": [],
   "source": [
    "\n"
   ]
  }
 ],
 "metadata": {
  "kernelspec": {
   "display_name": "style-transfer",
   "language": "python",
   "name": "style-transfer"
  },
  "language_info": {
   "codemirror_mode": {
    "name": "ipython",
    "version": 3
   },
   "file_extension": ".py",
   "mimetype": "text/x-python",
   "name": "python",
   "nbconvert_exporter": "python",
   "pygments_lexer": "ipython3",
   "version": "3.7.7"
  }
 },
 "nbformat": 4,
 "nbformat_minor": 2
}
